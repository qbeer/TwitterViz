{
 "cells": [
  {
   "cell_type": "code",
   "execution_count": 1,
   "metadata": {},
   "outputs": [
    {
     "name": "stdout",
     "output_type": "stream",
     "text": [
      "Populating the interactive namespace from numpy and matplotlib\n"
     ]
    }
   ],
   "source": [
    "%pylab inline\n",
    "import pandas as pd"
   ]
  },
  {
   "cell_type": "code",
   "execution_count": 2,
   "metadata": {},
   "outputs": [
    {
     "data": {
      "text/html": [
       "<div>\n",
       "<style scoped>\n",
       "    .dataframe tbody tr th:only-of-type {\n",
       "        vertical-align: middle;\n",
       "    }\n",
       "\n",
       "    .dataframe tbody tr th {\n",
       "        vertical-align: top;\n",
       "    }\n",
       "\n",
       "    .dataframe thead th {\n",
       "        text-align: right;\n",
       "    }\n",
       "</style>\n",
       "<table border=\"1\" class=\"dataframe\">\n",
       "  <thead>\n",
       "    <tr style=\"text-align: right;\">\n",
       "      <th></th>\n",
       "      <th>lon</th>\n",
       "      <th>lat</th>\n",
       "      <th>plon</th>\n",
       "      <th>plat</th>\n",
       "    </tr>\n",
       "  </thead>\n",
       "  <tbody>\n",
       "    <tr>\n",
       "      <th>0</th>\n",
       "      <td>-73.974228</td>\n",
       "      <td>40.740402</td>\n",
       "      <td>-73.956551</td>\n",
       "      <td>40.733932</td>\n",
       "    </tr>\n",
       "    <tr>\n",
       "      <th>1</th>\n",
       "      <td>-0.109380</td>\n",
       "      <td>51.514629</td>\n",
       "      <td>-1.617727</td>\n",
       "      <td>53.785324</td>\n",
       "    </tr>\n",
       "    <tr>\n",
       "      <th>2</th>\n",
       "      <td>11.965316</td>\n",
       "      <td>57.701391</td>\n",
       "      <td>11.970102</td>\n",
       "      <td>57.703602</td>\n",
       "    </tr>\n",
       "    <tr>\n",
       "      <th>3</th>\n",
       "      <td>-3.177368</td>\n",
       "      <td>51.484031</td>\n",
       "      <td>-3.419140</td>\n",
       "      <td>51.706676</td>\n",
       "    </tr>\n",
       "    <tr>\n",
       "      <th>4</th>\n",
       "      <td>-122.332845</td>\n",
       "      <td>47.624431</td>\n",
       "      <td>-122.678070</td>\n",
       "      <td>48.506680</td>\n",
       "    </tr>\n",
       "    <tr>\n",
       "      <th>5</th>\n",
       "      <td>29.014727</td>\n",
       "      <td>41.040287</td>\n",
       "      <td>29.053541</td>\n",
       "      <td>40.979324</td>\n",
       "    </tr>\n",
       "    <tr>\n",
       "      <th>6</th>\n",
       "      <td>-3.698262</td>\n",
       "      <td>40.432953</td>\n",
       "      <td>-0.349279</td>\n",
       "      <td>39.458981</td>\n",
       "    </tr>\n",
       "    <tr>\n",
       "      <th>7</th>\n",
       "      <td>-122.415811</td>\n",
       "      <td>37.778129</td>\n",
       "      <td>-122.405975</td>\n",
       "      <td>37.783192</td>\n",
       "    </tr>\n",
       "    <tr>\n",
       "      <th>8</th>\n",
       "      <td>-73.984697</td>\n",
       "      <td>40.734274</td>\n",
       "      <td>-73.954956</td>\n",
       "      <td>40.784729</td>\n",
       "    </tr>\n",
       "    <tr>\n",
       "      <th>9</th>\n",
       "      <td>-83.747251</td>\n",
       "      <td>42.305744</td>\n",
       "      <td>-83.760040</td>\n",
       "      <td>42.410336</td>\n",
       "    </tr>\n",
       "  </tbody>\n",
       "</table>\n",
       "</div>"
      ],
      "text/plain": [
       "          lon        lat        plon       plat\n",
       "0  -73.974228  40.740402  -73.956551  40.733932\n",
       "1   -0.109380  51.514629   -1.617727  53.785324\n",
       "2   11.965316  57.701391   11.970102  57.703602\n",
       "3   -3.177368  51.484031   -3.419140  51.706676\n",
       "4 -122.332845  47.624431 -122.678070  48.506680\n",
       "5   29.014727  41.040287   29.053541  40.979324\n",
       "6   -3.698262  40.432953   -0.349279  39.458981\n",
       "7 -122.415811  37.778129 -122.405975  37.783192\n",
       "8  -73.984697  40.734274  -73.954956  40.784729\n",
       "9  -83.747251  42.305744  -83.760040  42.410336"
      ]
     },
     "execution_count": 2,
     "metadata": {},
     "output_type": "execute_result"
    }
   ],
   "source": [
    "data = pd.read_csv('both.csv')\n",
    "data = pd.DataFrame(data.values[:, 1:5], columns=['lon', 'lat', 'plon', 'plat'])\n",
    "data.head(n=10)"
   ]
  },
  {
   "cell_type": "code",
   "execution_count": 3,
   "metadata": {},
   "outputs": [],
   "source": [
    "from astropy.coordinates import spherical_to_cartesian\n",
    "\n",
    "def transform2cart(lon, lat):\n",
    "    x, y, z = spherical_to_cartesian(6371, np.radians(lat), np.radians(lon))\n",
    "    return np.array([x, y, z])"
   ]
  },
  {
   "cell_type": "code",
   "execution_count": 4,
   "metadata": {},
   "outputs": [],
   "source": [
    "dists = []\n",
    "\n",
    "for row in data.values:\n",
    "    lon, lat, plon, plat = row\n",
    "    dist = np.linalg.norm(transform2cart(lon, lat) - transform2cart(plon, plat))\n",
    "    dists.append(dist)"
   ]
  },
  {
   "cell_type": "code",
   "execution_count": 5,
   "metadata": {},
   "outputs": [
    {
     "data": {
      "text/html": [
       "<div>\n",
       "<style scoped>\n",
       "    .dataframe tbody tr th:only-of-type {\n",
       "        vertical-align: middle;\n",
       "    }\n",
       "\n",
       "    .dataframe tbody tr th {\n",
       "        vertical-align: top;\n",
       "    }\n",
       "\n",
       "    .dataframe thead th {\n",
       "        text-align: right;\n",
       "    }\n",
       "</style>\n",
       "<table border=\"1\" class=\"dataframe\">\n",
       "  <thead>\n",
       "    <tr style=\"text-align: right;\">\n",
       "      <th></th>\n",
       "      <th>lon</th>\n",
       "      <th>lat</th>\n",
       "      <th>plon</th>\n",
       "      <th>plat</th>\n",
       "      <th>dist</th>\n",
       "    </tr>\n",
       "  </thead>\n",
       "  <tbody>\n",
       "    <tr>\n",
       "      <th>0</th>\n",
       "      <td>-73.974228</td>\n",
       "      <td>40.740402</td>\n",
       "      <td>-73.956551</td>\n",
       "      <td>40.733932</td>\n",
       "      <td>1.654017</td>\n",
       "    </tr>\n",
       "    <tr>\n",
       "      <th>1</th>\n",
       "      <td>-0.109380</td>\n",
       "      <td>51.514629</td>\n",
       "      <td>-1.617727</td>\n",
       "      <td>53.785324</td>\n",
       "      <td>272.185273</td>\n",
       "    </tr>\n",
       "    <tr>\n",
       "      <th>2</th>\n",
       "      <td>11.965316</td>\n",
       "      <td>57.701391</td>\n",
       "      <td>11.970102</td>\n",
       "      <td>57.703602</td>\n",
       "      <td>0.375902</td>\n",
       "    </tr>\n",
       "    <tr>\n",
       "      <th>3</th>\n",
       "      <td>-3.177368</td>\n",
       "      <td>51.484031</td>\n",
       "      <td>-3.419140</td>\n",
       "      <td>51.706676</td>\n",
       "      <td>29.863287</td>\n",
       "    </tr>\n",
       "    <tr>\n",
       "      <th>4</th>\n",
       "      <td>-122.332845</td>\n",
       "      <td>47.624431</td>\n",
       "      <td>-122.678070</td>\n",
       "      <td>48.506680</td>\n",
       "      <td>101.398925</td>\n",
       "    </tr>\n",
       "    <tr>\n",
       "      <th>5</th>\n",
       "      <td>29.014727</td>\n",
       "      <td>41.040287</td>\n",
       "      <td>29.053541</td>\n",
       "      <td>40.979324</td>\n",
       "      <td>7.520451</td>\n",
       "    </tr>\n",
       "    <tr>\n",
       "      <th>6</th>\n",
       "      <td>-3.698262</td>\n",
       "      <td>40.432953</td>\n",
       "      <td>-0.349279</td>\n",
       "      <td>39.458981</td>\n",
       "      <td>305.289563</td>\n",
       "    </tr>\n",
       "    <tr>\n",
       "      <th>7</th>\n",
       "      <td>-122.415811</td>\n",
       "      <td>37.778129</td>\n",
       "      <td>-122.405975</td>\n",
       "      <td>37.783192</td>\n",
       "      <td>1.031550</td>\n",
       "    </tr>\n",
       "    <tr>\n",
       "      <th>8</th>\n",
       "      <td>-73.984697</td>\n",
       "      <td>40.734274</td>\n",
       "      <td>-73.954956</td>\n",
       "      <td>40.784729</td>\n",
       "      <td>6.144119</td>\n",
       "    </tr>\n",
       "    <tr>\n",
       "      <th>9</th>\n",
       "      <td>-83.747251</td>\n",
       "      <td>42.305744</td>\n",
       "      <td>-83.760040</td>\n",
       "      <td>42.410336</td>\n",
       "      <td>11.677400</td>\n",
       "    </tr>\n",
       "  </tbody>\n",
       "</table>\n",
       "</div>"
      ],
      "text/plain": [
       "          lon        lat        plon       plat        dist\n",
       "0  -73.974228  40.740402  -73.956551  40.733932    1.654017\n",
       "1   -0.109380  51.514629   -1.617727  53.785324  272.185273\n",
       "2   11.965316  57.701391   11.970102  57.703602    0.375902\n",
       "3   -3.177368  51.484031   -3.419140  51.706676   29.863287\n",
       "4 -122.332845  47.624431 -122.678070  48.506680  101.398925\n",
       "5   29.014727  41.040287   29.053541  40.979324    7.520451\n",
       "6   -3.698262  40.432953   -0.349279  39.458981  305.289563\n",
       "7 -122.415811  37.778129 -122.405975  37.783192    1.031550\n",
       "8  -73.984697  40.734274  -73.954956  40.784729    6.144119\n",
       "9  -83.747251  42.305744  -83.760040  42.410336   11.677400"
      ]
     },
     "execution_count": 5,
     "metadata": {},
     "output_type": "execute_result"
    }
   ],
   "source": [
    "data = data.join(pd.DataFrame({'dist' : dists}))\n",
    "data.head(n=10)"
   ]
  },
  {
   "cell_type": "code",
   "execution_count": 6,
   "metadata": {},
   "outputs": [
    {
     "data": {
      "text/plain": [
       "(7927, 5)"
      ]
     },
     "execution_count": 6,
     "metadata": {},
     "output_type": "execute_result"
    }
   ],
   "source": [
    "data.values.shape"
   ]
  },
  {
   "cell_type": "code",
   "execution_count": 7,
   "metadata": {},
   "outputs": [],
   "source": [
    "accuracy = []\n",
    "max_dist = 100 # km\n",
    "\n",
    "for distance in np.linspace(1, max_dist, max_dist // 2):\n",
    "    filtered_data = data.loc[data['dist'] < distance]\n",
    "    accuracy.append(filtered_data.shape[0]/data.shape[0] * 100.)"
   ]
  },
  {
   "cell_type": "code",
   "execution_count": 11,
   "metadata": {},
   "outputs": [
    {
     "data": {
      "image/png": "[encoded data removed]",
      "text/plain": [
       "<Figure size 432x288 with 1 Axes>"
      ]
     },
     "metadata": {},
     "output_type": "display_data"
    }
   ],
   "source": [
    "plt.plot(np.linspace(1, max_dist, max_dist // 2), accuracy, 'bo--')\n",
    "plt.grid(True)\n",
    "plt.xlabel(\"Distance [km]\")\n",
    "plt.ylabel(\"Accuracy [%]\")\n",
    "plt.savefig(\"accuracy-distance.png\", dpi=100)\n",
    "plt.show()"
   ]
  },
  {
   "cell_type": "code",
   "execution_count": null,
   "metadata": {
    "collapsed": true
   },
   "outputs": [],
   "source": [
    "accuracy = []\n",
    "max_dist = 10 # km\n",
    "\n",
    "for distance in np.linspace(1, max_dist, max_dist // 2):\n",
    "    filtered_data = data.loc[data['dist'] < distance]\n",
    "    accuracy.append(filtered_data.shape[0]/data.shape[0] * 100.)"
   ]
  }
 ],
 "metadata": {
  "kernelspec": {
   "display_name": "Python 3",
   "language": "python",
   "name": "python3"
  },
  "language_info": {
   "codemirror_mode": {
    "name": "ipython",
    "version": 3
   },
   "file_extension": ".py",
   "mimetype": "text/x-python",
   "name": "python",
   "nbconvert_exporter": "python",
   "pygments_lexer": "ipython3",
   "version": "3.6.5"
  }
 },
 "nbformat": 4,
 "nbformat_minor": 2
}
