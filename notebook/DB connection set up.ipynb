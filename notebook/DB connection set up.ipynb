{
 "cells": [
  {
   "cell_type": "code",
   "execution_count": null,
   "metadata": {
    "collapsed": true,
    "deletable": true,
    "editable": true
   },
   "outputs": [],
   "source": [
    "# folium package"
   ]
  },
  {
   "cell_type": "code",
   "execution_count": 2,
   "metadata": {
    "collapsed": false,
    "deletable": true,
    "editable": true
   },
   "outputs": [
    {
     "data": {
      "text/plain": [
       "'\\nrun_query(\"\"\"SELECT\\n        f_user_id as id, followed_user_id as fid,\\n        c_lat as lat, c_lon as lon, f_lat as flat, f_lon as flon, dist\\n        INTO alex..follower_graph\\n        FROM jszule..follower_2dir_coord\"\"\")\\n'"
      ]
     },
     "execution_count": 2,
     "metadata": {},
     "output_type": "execute_result"
    }
   ],
   "source": [
    "\"\"\"\n",
    "run_query(\\\"\"\"SELECT\n",
    "        f_user_id as id, followed_user_id as fid,\n",
    "        c_lat as lat, c_lon as lon, f_lat as flat, f_lon as flon, dist\n",
    "        INTO alex..follower_graph\n",
    "        FROM jszule..follower_2dir_coord\\\"\"\")\n",
    "\"\"\""
   ]
  },
  {
   "cell_type": "code",
   "execution_count": 3,
   "metadata": {
    "collapsed": true,
    "deletable": true,
    "editable": true
   },
   "outputs": [],
   "source": [
    "#connection = pymssql.connect(\"future1\", timeout=300)\n",
    "\n",
    "#try:\n",
    " #   with connection.cursor() as cursor:\n",
    "      #  sql = \"\"\"CREATE TABLE alex..Twitter_User (\n",
    "       #             ID bigint NOT NULL,\n",
    "        #            lon real NOT NULL,\n",
    "         #           lat real NOT NULL\n",
    "          #          PRIMARY KEY (ID));\"\"\"\n",
    "   #     sql2 = \"\"\"INSERT INTO alex..Twitter_User (ID, lon, lat)\n",
    "    #            SELECT DISTINCT id as ID, lon, lat\n",
    "     #       FROM alex..follower_graph;\"\"\"\n",
    "  #      cursor.execute(sql2)\n",
    "\n",
    "    # connection is not autocommit by default. So you must commit to save changes.\n",
    "    # connection.commit()\n",
    "\n",
    "#finally:\n",
    " #   connection.close()"
   ]
  },
  {
   "cell_type": "code",
   "execution_count": 4,
   "metadata": {
    "collapsed": false,
    "deletable": true,
    "editable": true,
    "scrolled": true
   },
   "outputs": [
    {
     "name": "stderr",
     "output_type": "stream",
     "text": [
      "ERROR:root:An unexpected error occurred while tokenizing input\n",
      "The following traceback may be corrupted or invalid\n",
      "The error message is: ('EOF in multi-line string', (1, 0))\n",
      "\n"
     ]
    },
    {
     "ename": "OperationalError",
     "evalue": "(20009, b'DB-Lib error message 20009, severity 9:\\nUnable to connect: Adaptive Server is unavailable or does not exist (future1:1433)\\nNet-Lib error during Connection timed out (110)\\n')",
     "output_type": "error",
     "traceback": [
      "\u001b[0;31m---------------------------------------------------------------------------\u001b[0m",
      "\u001b[0;31mMSSQLDatabaseException\u001b[0m                    Traceback (most recent call last)",
      "\u001b[0;32msrc/pymssql.pyx\u001b[0m in \u001b[0;36mpymssql.connect (src/pymssql.c:11411)\u001b[0;34m()\u001b[0m\n",
      "\u001b[0;32msrc/_mssql.pyx\u001b[0m in \u001b[0;36m_mssql.connect (src/_mssql.c:23604)\u001b[0;34m()\u001b[0m\n",
      "\u001b[0;32msrc/_mssql.pyx\u001b[0m in \u001b[0;36m_mssql.MSSQLConnection.__init__ (src/_mssql.c:7493)\u001b[0;34m()\u001b[0m\n",
      "\u001b[0;32msrc/_mssql.pyx\u001b[0m in \u001b[0;36m_mssql.maybe_raise_MSSQLDatabaseException (src/_mssql.c:19130)\u001b[0;34m()\u001b[0m\n",
      "\u001b[0;31mMSSQLDatabaseException\u001b[0m: (20009, b'DB-Lib error message 20009, severity 9:\\nUnable to connect: Adaptive Server is unavailable or does not exist (future1:1433)\\nNet-Lib error during Connection timed out (110)\\n')",
      "\nDuring handling of the above exception, another exception occurred:\n",
      "\u001b[0;31mOperationalError\u001b[0m                          Traceback (most recent call last)",
      "\u001b[0;32m<ipython-input-4-05049d08b905>\u001b[0m in \u001b[0;36m<module>\u001b[0;34m()\u001b[0m\n\u001b[1;32m     16\u001b[0m \u001b[0mON\u001b[0m \u001b[0mtwitter_user\u001b[0m\u001b[0;34m.\u001b[0m\u001b[0mID\u001b[0m \u001b[0;34m=\u001b[0m \u001b[0mfollower\u001b[0m\u001b[0;34m.\u001b[0m\u001b[0mid\u001b[0m\u001b[0;34m\u001b[0m\u001b[0m\n\u001b[1;32m     17\u001b[0m \u001b[0mORDER\u001b[0m \u001b[0mBY\u001b[0m \u001b[0mtwitter_user\u001b[0m\u001b[0;34m.\u001b[0m\u001b[0mID\u001b[0m\u001b[0;34m\u001b[0m\u001b[0m\n\u001b[0;32m---> 18\u001b[0;31m \"\"\")\n\u001b[0m\u001b[1;32m     19\u001b[0m \u001b[0mfollowers\u001b[0m\u001b[0;34m.\u001b[0m\u001b[0mcolumns\u001b[0m \u001b[0;34m=\u001b[0m \u001b[0;34m[\u001b[0m\u001b[0;34m'fid'\u001b[0m\u001b[0;34m,\u001b[0m \u001b[0;34m'flon'\u001b[0m\u001b[0;34m,\u001b[0m \u001b[0;34m'flan'\u001b[0m\u001b[0;34m,\u001b[0m \u001b[0;34m'dist'\u001b[0m\u001b[0;34m,\u001b[0m \u001b[0;34m'lon'\u001b[0m\u001b[0;34m,\u001b[0m \u001b[0;34m'lat'\u001b[0m\u001b[0;34m,\u001b[0m \u001b[0;34m'id'\u001b[0m\u001b[0;34m]\u001b[0m\u001b[0;34m\u001b[0m\u001b[0m\n\u001b[1;32m     20\u001b[0m \u001b[0mfollowers\u001b[0m\u001b[0;34m\u001b[0m\u001b[0m\n",
      "\u001b[0;32m<ipython-input-4-05049d08b905>\u001b[0m in \u001b[0;36mrun_query\u001b[0;34m(query)\u001b[0m\n\u001b[1;32m      4\u001b[0m \u001b[0;34m\u001b[0m\u001b[0m\n\u001b[1;32m      5\u001b[0m \u001b[0;32mdef\u001b[0m \u001b[0mrun_query\u001b[0m\u001b[0;34m(\u001b[0m\u001b[0mquery\u001b[0m\u001b[0;34m)\u001b[0m\u001b[0;34m:\u001b[0m\u001b[0;34m\u001b[0m\u001b[0m\n\u001b[0;32m----> 6\u001b[0;31m     \u001b[0mconnection\u001b[0m \u001b[0;34m=\u001b[0m \u001b[0mpymssql\u001b[0m\u001b[0;34m.\u001b[0m\u001b[0mconnect\u001b[0m\u001b[0;34m(\u001b[0m\u001b[0;34m\"future1\"\u001b[0m\u001b[0;34m,\u001b[0m \u001b[0mtimeout\u001b[0m\u001b[0;34m=\u001b[0m\u001b[0;36m300\u001b[0m\u001b[0;34m)\u001b[0m \u001b[0;31m# DB server\u001b[0m\u001b[0;34m\u001b[0m\u001b[0m\n\u001b[0m\u001b[1;32m      7\u001b[0m     \u001b[0mcursor\u001b[0m \u001b[0;34m=\u001b[0m \u001b[0mconnection\u001b[0m\u001b[0;34m.\u001b[0m\u001b[0mcursor\u001b[0m\u001b[0;34m(\u001b[0m\u001b[0;34m)\u001b[0m\u001b[0;34m\u001b[0m\u001b[0m\n\u001b[1;32m      8\u001b[0m     \u001b[0mcursor\u001b[0m\u001b[0;34m.\u001b[0m\u001b[0mexecute\u001b[0m\u001b[0;34m(\u001b[0m\u001b[0mquery\u001b[0m\u001b[0;34m)\u001b[0m\u001b[0;34m\u001b[0m\u001b[0m\n",
      "\u001b[0;32msrc/pymssql.pyx\u001b[0m in \u001b[0;36mpymssql.connect (src/pymssql.c:11521)\u001b[0;34m()\u001b[0m\n",
      "\u001b[0;31mOperationalError\u001b[0m: (20009, b'DB-Lib error message 20009, severity 9:\\nUnable to connect: Adaptive Server is unavailable or does not exist (future1:1433)\\nNet-Lib error during Connection timed out (110)\\n')"
     ]
    }
   ],
   "source": [
    "import pymssql\n",
    "import numpy as np\n",
    "import pandas as pd\n",
    "\n",
    "def run_query(query):\n",
    "    connection = pymssql.connect(\"future1\", timeout=300) # DB server\n",
    "    cursor = connection.cursor()\n",
    "    cursor.execute(query)\n",
    "    return pd.DataFrame(cursor.fetchall())\n",
    "\n",
    "followers = run_query(\"\"\"SELECT follower.fid, follower.flon,\n",
    "follower.flat, follower.dist, twitter_user.lon, twitter_user.lat,\n",
    "twitter_user.ID\n",
    "FROM alex..Twitter_User as twitter_user\n",
    "INNER JOIN alex..follower_graph as follower\n",
    "ON twitter_user.ID = follower.id\n",
    "ORDER BY twitter_user.ID\n",
    "\"\"\")\n",
    "followers.columns = ['fid', 'flon', 'flan', 'dist', 'lon', 'lat', 'id']\n",
    "followers"
   ]
  },
  {
   "cell_type": "code",
   "execution_count": null,
   "metadata": {
    "collapsed": false,
    "deletable": true,
    "editable": true
   },
   "outputs": [],
   "source": [
    "followers.values.shape, followers.columns"
   ]
  },
  {
   "cell_type": "code",
   "execution_count": null,
   "metadata": {
    "collapsed": false,
    "deletable": true,
    "editable": true
   },
   "outputs": [],
   "source": [
    "def build_dictionary(df):\n",
    "    values = df[['fid', 'flon', 'flan', 'lon', 'lat', 'id']].values\n",
    "    followers = dict()\n",
    "    for value in values:\n",
    "        followers[value[5]] = []\n",
    "    for value in values:\n",
    "        followers[value[5]].append(value[0:5])\n",
    "    return followers"
   ]
  },
  {
   "cell_type": "code",
   "execution_count": null,
   "metadata": {
    "collapsed": false,
    "deletable": true,
    "editable": true
   },
   "outputs": [],
   "source": [
    "follower_dict = build_dictionary(followers)\n",
    "len(follower_dict)"
   ]
  },
  {
   "cell_type": "code",
   "execution_count": null,
   "metadata": {
    "collapsed": false,
    "deletable": true,
    "editable": true
   },
   "outputs": [],
   "source": [
    "followed_users = follower_dict.keys()\n",
    "len(followed_users)"
   ]
  },
  {
   "cell_type": "code",
   "execution_count": null,
   "metadata": {
    "collapsed": true,
    "deletable": true,
    "editable": true
   },
   "outputs": [],
   "source": [
    "from sklearn.cluster import DBSCAN"
   ]
  },
  {
   "cell_type": "code",
   "execution_count": null,
   "metadata": {
    "collapsed": false,
    "deletable": true,
    "editable": true
   },
   "outputs": [],
   "source": [
    "one_user = list(followed_users)[0]"
   ]
  },
  {
   "cell_type": "code",
   "execution_count": null,
   "metadata": {
    "collapsed": true,
    "deletable": true,
    "editable": true
   },
   "outputs": [],
   "source": [
    "model = DBSCAN()"
   ]
  },
  {
   "cell_type": "code",
   "execution_count": null,
   "metadata": {
    "collapsed": false,
    "deletable": true,
    "editable": true
   },
   "outputs": [],
   "source": [
    "followers_matrix = np.array(follower_dict[12])[:, 1:3]\n",
    "print(followers_matrix.shape)"
   ]
  },
  {
   "cell_type": "code",
   "execution_count": null,
   "metadata": {
    "collapsed": false,
    "deletable": true,
    "editable": true
   },
   "outputs": [],
   "source": [
    "import matplotlib.pyplot as plt\n",
    "from astropy.coordinates import spherical_to_cartesian, cartesian_to_spherical\n",
    "\n",
    "def preict_from_most_dense_cluster(data):\n",
    "    clf = DBSCAN(eps=5./6371., min_samples=5, \n",
    "                     algorithm='ball_tree', metric='haversine').fit(np.radians(data.values))\n",
    "\n",
    "    distinct_labels = set(clf.labels_)\n",
    "    if -1 in distinct_labels:\n",
    "        distinct_labels.remove(-1)\n",
    "    \n",
    "    labeledData = [0]*len(distinct_labels)\n",
    "    for label in distinct_labels:\n",
    "        labeledData[label] = []\n",
    "    for ind, label in enumerate(clf.labels_):\n",
    "        if label >= 0:\n",
    "            labeledData[label].append(data.values[ind, :])\n",
    "    labeledData = np.array(labeledData)\n",
    "    \n",
    "    sizes = []\n",
    "    for ind in range(labeledData.shape[0]):\n",
    "        sizes.append(len(labeledData[ind]))\n",
    "        \n",
    "    def transform2cart(arr):\n",
    "        lon, lat = arr\n",
    "        x, y, z = spherical_to_cartesian(6371, np.radians(lat), np.radians(lon))\n",
    "        return [x, y, z]\n",
    "    \n",
    "    def transform2geo(arr):\n",
    "        x, y, z = arr\n",
    "        r, lat, lon = cartesian_to_spherical(x, y, z)\n",
    "        lat = np.degrees(lat.value) if np.degrees(lat.value) < 180 else (-180 + np.degrees(lat.value) - 180)\n",
    "        lon = np.degrees(lon.value) if np.degrees(lon.value) < 180 else (-180 + np.degrees(lon.value) - 180)\n",
    "        return np.array([lon, lat])\n",
    "    \n",
    "    transformedData = []\n",
    "    \n",
    "    if(len(sizes) == 0):\n",
    "        for row in np.array(data.values):\n",
    "            transformedData.append(transform2cart(row))\n",
    "        return transform2geo(np.mean(transformedData, axis=0)) # naive method\n",
    "    \n",
    "    max_ind = np.argmax(sizes)\n",
    "\n",
    "    for row in np.array(labeledData[max_ind]):\n",
    "        transformedData.append(transform2cart(row))\n",
    "    return transform2geo(np.mean(transformedData, axis=0))\n"
   ]
  },
  {
   "cell_type": "code",
   "execution_count": null,
   "metadata": {
    "collapsed": false,
    "deletable": true,
    "editable": true
   },
   "outputs": [],
   "source": [
    "preict_from_most_dense_cluster(pd.DataFrame(followers_matrix)) # actual -122.405975\t37.783192"
   ]
  },
  {
   "cell_type": "code",
   "execution_count": null,
   "metadata": {
    "collapsed": false,
    "deletable": true,
    "editable": true
   },
   "outputs": [],
   "source": [
    "np.mean(followers_matrix, axis=0) # naive"
   ]
  },
  {
   "cell_type": "code",
   "execution_count": null,
   "metadata": {
    "collapsed": false,
    "deletable": true,
    "editable": true,
    "scrolled": true
   },
   "outputs": [],
   "source": [
    "def transform2cart(arr):\n",
    "    lon, lat = arr\n",
    "    x, y, z = spherical_to_cartesian(6371, np.radians(lat), np.radians(lon))\n",
    "    return np.array([x, y, z])\n",
    "\n",
    "true_and_predicted = dict()\n",
    "for ind, key in enumerate(list(follower_dict.keys())[0:50000]):\n",
    "    followers_matrix = np.array(follower_dict[key])\n",
    "    prediction = preict_from_most_dense_cluster(pd.DataFrame(followers_matrix[:, 1:3]))\n",
    "    dist = np.linalg.norm(\n",
    "        transform2cart(np.array(prediction)) - transform2cart(np.array(followers_matrix[0, 3:5])))\n",
    "    true_and_predicted[key] = np.array([prediction[0], prediction[1], followers_matrix[0, 3:5][0], \n",
    "                                        followers_matrix[0, 3:5][1], dist])\n",
    "    print(\".\", end='')\n",
    "    if((ind+1) % 5000 == 0): \n",
    "        print()\n",
    "        print('%d already processed!' % ind)"
   ]
  },
  {
   "cell_type": "code",
   "execution_count": null,
   "metadata": {
    "collapsed": false,
    "deletable": true,
    "editable": true
   },
   "outputs": [],
   "source": [
    "data = []\n",
    "for key in true_and_predicted.keys():\n",
    "    data.append(np.array(true_and_predicted[key]).flatten())\n",
    "data = pd.DataFrame(np.array(data))\n",
    "data.values.shape, len(true_and_predicted)"
   ]
  },
  {
   "cell_type": "code",
   "execution_count": null,
   "metadata": {
    "collapsed": false,
    "deletable": true,
    "editable": true
   },
   "outputs": [],
   "source": [
    "data.head(n=25)"
   ]
  },
  {
   "cell_type": "code",
   "execution_count": null,
   "metadata": {
    "collapsed": false,
    "deletable": true,
    "editable": true
   },
   "outputs": [],
   "source": [
    "data[[0, 1]].to_csv(path_or_buf='pred.txt', sep='\\t')"
   ]
  },
  {
   "cell_type": "code",
   "execution_count": null,
   "metadata": {
    "collapsed": true,
    "deletable": true,
    "editable": true
   },
   "outputs": [],
   "source": [
    "data[[2, 3]].to_csv(path_or_buf='actu.txt', sep='\\t')"
   ]
  },
  {
   "cell_type": "code",
   "execution_count": null,
   "metadata": {
    "collapsed": true,
    "deletable": true,
    "editable": true
   },
   "outputs": [],
   "source": [
    "data.to_csv(path_or_buf='both.csv')"
   ]
  },
  {
   "cell_type": "code",
   "execution_count": null,
   "metadata": {
    "collapsed": false,
    "deletable": true,
    "editable": true
   },
   "outputs": [],
   "source": [
    "closer_than_five = data[4] < 15\n",
    "filtered_data = data[closer_than_five]\n",
    "filtered_data.shape"
   ]
  },
  {
   "cell_type": "code",
   "execution_count": null,
   "metadata": {
    "collapsed": false,
    "deletable": true,
    "editable": true
   },
   "outputs": [],
   "source": [
    "filtered_data.head(n=15)"
   ]
  },
  {
   "cell_type": "code",
   "execution_count": null,
   "metadata": {
    "collapsed": true,
    "deletable": true,
    "editable": true
   },
   "outputs": [],
   "source": [
    "filtered_data.to_csv(path_or_buf='both.csv')"
   ]
  },
  {
   "cell_type": "code",
   "execution_count": null,
   "metadata": {
    "collapsed": true,
    "deletable": true,
    "editable": true
   },
   "outputs": [],
   "source": []
  }
 ],
 "metadata": {
  "kernelspec": {
   "display_name": "Python 3",
   "language": "python",
   "name": "python3"
  },
  "language_info": {
   "codemirror_mode": {
    "name": "ipython",
    "version": 3
   },
   "file_extension": ".py",
   "mimetype": "text/x-python",
   "name": "python",
   "nbconvert_exporter": "python",
   "pygments_lexer": "ipython3",
   "version": "3.5.2"
  }
 },
 "nbformat": 4,
 "nbformat_minor": 2
}
